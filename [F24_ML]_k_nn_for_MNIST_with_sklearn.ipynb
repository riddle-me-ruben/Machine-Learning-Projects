{
  "nbformat": 4,
  "nbformat_minor": 0,
  "metadata": {
    "colab": {
      "provenance": []
    },
    "kernelspec": {
      "name": "python3",
      "display_name": "Python 3"
    },
    "language_info": {
      "name": "python"
    }
  },
  "cells": [
    {
      "cell_type": "markdown",
      "metadata": {
        "id": "q6Ilgn9-p17t"
      },
      "source": [
        "# **CS 5361/6361 Machine Learning**\n",
        "\n",
        "**Classification using k-nn and the scikit-learn library**\n",
        "\n",
        "**Author:** Ruben Martinez\n",
        "**Last modified:** 9/16/2024<br>\n"
      ]
    },
    {
      "cell_type": "code",
      "metadata": {
        "id": "DG6nXNYdguMT"
      },
      "source": [
        "import tensorflow as tf\n",
        "import numpy as np\n",
        "import matplotlib.pyplot as plt\n",
        "from sklearn.neighbors import KNeighborsClassifier\n",
        "from sklearn.metrics import accuracy_score, confusion_matrix\n",
        "import time"
      ],
      "execution_count": 1,
      "outputs": []
    },
    {
      "cell_type": "markdown",
      "metadata": {
        "id": "EgJSAxqSooW3"
      },
      "source": [
        "Download data."
      ]
    },
    {
      "cell_type": "code",
      "metadata": {
        "id": "kOG2Ow8Dp1BA",
        "colab": {
          "base_uri": "https://localhost:8080/"
        },
        "outputId": "d715ee54-bab8-4a93-fa7b-45b9cdc1d09c"
      },
      "source": [
        "(X_train, y_train), (X_test, y_test) = tf.keras.datasets.mnist.load_data()\n",
        "X_train = np.float32(X_train.reshape(X_train.shape[0],-1)/255)\n",
        "X_test = np.float32(X_test.reshape(X_test.shape[0],-1)/255)\n",
        "\n",
        "print(X_train.shape)\n",
        "print(y_train.shape)\n",
        "print(X_test.shape)\n",
        "print(y_test.shape)"
      ],
      "execution_count": 2,
      "outputs": [
        {
          "output_type": "stream",
          "name": "stdout",
          "text": [
            "(60000, 784)\n",
            "(60000,)\n",
            "(10000, 784)\n",
            "(10000,)\n"
          ]
        }
      ]
    },
    {
      "cell_type": "markdown",
      "metadata": {
        "id": "M-31CyFQpFOZ"
      },
      "source": [
        "Now we will classify the test set using the sklearn implementation of k-nearest neighbors with default parameters.\n",
        "\n",
        "The documentation can be found here:\n",
        "https://scikit-learn.org/stable/modules/generated/sklearn.neighbors.KNeighborsClassifier.html\n",
        "\n"
      ]
    },
    {
      "cell_type": "code",
      "source": [
        "classifier = KNeighborsClassifier()\n",
        "start = time.time()\n",
        "classifier.fit(X_train, y_train)\n",
        "end = time.time()\n",
        "print('Elapsed time training= {:.4f} secs'.format(end-start))\n",
        "start = time.time()\n",
        "pred = classifier.predict(X_test)\n",
        "end = time.time()\n",
        "print('Elapsed time testing= {:.4f} secs'.format(end-start))\n",
        "print(f'Accuracy: {accuracy_score(y_test,pred):6.4f}')\n",
        "print(f'Confusion matrix:\\n{confusion_matrix(y_test,pred)}')"
      ],
      "metadata": {
        "id": "pWS_WExtYzFw",
        "colab": {
          "base_uri": "https://localhost:8080/"
        },
        "outputId": "5bc03294-bcd6-4f95-c3ec-f3f4de2dd7eb"
      },
      "execution_count": 3,
      "outputs": [
        {
          "output_type": "stream",
          "name": "stdout",
          "text": [
            "Elapsed time training= 0.1290 secs\n",
            "Elapsed time testing= 48.7400 secs\n",
            "Accuracy: 0.9688\n",
            "Confusion matrix:\n",
            "[[ 974    1    1    0    0    1    2    1    0    0]\n",
            " [   0 1133    2    0    0    0    0    0    0    0]\n",
            " [  11    8  991    2    1    0    1   15    3    0]\n",
            " [   0    3    3  976    1   13    1    6    3    4]\n",
            " [   3    7    0    0  944    0    4    2    1   21]\n",
            " [   5    0    0   12    2  862    4    1    2    4]\n",
            " [   5    3    0    0    3    2  945    0    0    0]\n",
            " [   0   22    4    0    3    0    0  988    0   11]\n",
            " [   8    3    5   13    6   12    5    5  913    4]\n",
            " [   5    7    3    9    7    3    1   10    2  962]]\n"
          ]
        }
      ]
    },
    {
      "cell_type": "markdown",
      "source": [
        "By default, the k-neighbors classifier uses 5 nearest neighbors (n_neighbors = 5). Would you expect the accuracy to increase or decrease using:\n",
        "*   k = 1?\n",
        "*   k = 15?\n",
        "\n"
      ],
      "metadata": {
        "id": "7X-CB_m6alqA"
      }
    },
    {
      "cell_type": "markdown",
      "source": [
        "By default, the algorithm assigns the same weight to all the nearest neighbors of a test example (weights = 'uniform'), while distance weighting assigns a larger weight to neighbors that are closer to the test example. Would you expect the accuracy to increase or decrease using distance weighting and:\n",
        "*   k = 1?\n",
        "*   k = 2?\n",
        "*   k = 5?\n",
        "*   k = 15?"
      ],
      "metadata": {
        "id": "O9zocu8tbM5M"
      }
    },
    {
      "cell_type": "markdown",
      "source": [
        "Suppose we select the n features with the largest variance in the training set. If we select half of the features (that is, n =  784/2 = 392), what do you expect to change in terms of\n",
        "\n",
        "\n",
        "*   Training time\n",
        "*   Classification time\n",
        "*   Accuracy\n",
        "\n",
        "\n",
        "\n"
      ],
      "metadata": {
        "id": "E4ZhoSj3eAda"
      }
    },
    {
      "cell_type": "markdown",
      "source": [
        "# Predicting with 1 neighbor (unweighted)"
      ],
      "metadata": {
        "id": "owP5oe0AkcTN"
      }
    },
    {
      "cell_type": "code",
      "source": [
        "classifier = KNeighborsClassifier(n_neighbors = 1)\n",
        "start = time.time()\n",
        "classifier.fit(X_train, y_train)\n",
        "end = time.time()\n",
        "print('Elapsed time training= {:.4f} secs'.format(end-start))\n",
        "start = time.time()\n",
        "pred = classifier.predict(X_test)\n",
        "end = time.time()\n",
        "print('Elapsed time testing= {:.4f} secs'.format(end-start))\n",
        "print(f'Accuracy: {accuracy_score(y_test,pred):6.4f}')\n",
        "print(f'Confusion matrix:\\n{confusion_matrix(y_test,pred)}')"
      ],
      "metadata": {
        "id": "8QKTGexVkW7e",
        "outputId": "f22e7a50-f35f-4335-b8c4-fa5a6c1ad3c9",
        "colab": {
          "base_uri": "https://localhost:8080/"
        }
      },
      "execution_count": 4,
      "outputs": [
        {
          "output_type": "stream",
          "name": "stdout",
          "text": [
            "Elapsed time training= 0.0450 secs\n",
            "Elapsed time testing= 41.5560 secs\n",
            "Accuracy: 0.9691\n",
            "Confusion matrix:\n",
            "[[ 973    1    1    0    0    1    3    1    0    0]\n",
            " [   0 1129    3    0    1    1    1    0    0    0]\n",
            " [   7    6  992    5    1    0    2   16    3    0]\n",
            " [   0    1    2  970    1   19    0    7    7    3]\n",
            " [   0    7    0    0  944    0    3    5    1   22]\n",
            " [   1    1    0   12    2  860    5    1    6    4]\n",
            " [   4    2    0    0    3    5  944    0    0    0]\n",
            " [   0   14    6    2    4    0    0  992    0   10]\n",
            " [   6    1    3   14    5   13    3    4  920    5]\n",
            " [   2    5    1    6   10    5    1   11    1  967]]\n"
          ]
        }
      ]
    },
    {
      "cell_type": "markdown",
      "source": [
        "# Predicting with 15 neighbors (unweighted)"
      ],
      "metadata": {
        "id": "jUfZTbtzbJ28"
      }
    },
    {
      "cell_type": "code",
      "source": [
        "classifier = KNeighborsClassifier(n_neighbors = 15)\n",
        "start = time.time()\n",
        "classifier.fit(X_train, y_train)\n",
        "end = time.time()\n",
        "print('Elapsed time training= {:.4f} secs'.format(end-start))\n",
        "start = time.time()\n",
        "pred = classifier.predict(X_test)\n",
        "end = time.time()\n",
        "print('Elapsed time testing= {:.4f} secs'.format(end-start))\n",
        "print(f'Accuracy: {accuracy_score(y_test,pred):6.4f}')\n",
        "print(f'Confusion matrix:\\n{confusion_matrix(y_test,pred)}')"
      ],
      "metadata": {
        "colab": {
          "base_uri": "https://localhost:8080/"
        },
        "id": "ypEseZUtbTqZ",
        "outputId": "95de879f-d58c-4be5-e83f-02afa67961b5"
      },
      "execution_count": 5,
      "outputs": [
        {
          "output_type": "stream",
          "name": "stdout",
          "text": [
            "Elapsed time training= 0.0276 secs\n",
            "Elapsed time testing= 42.2809 secs\n",
            "Accuracy: 0.9633\n",
            "Confusion matrix:\n",
            "[[ 970    1    1    0    0    2    5    1    0    0]\n",
            " [   0 1131    2    1    0    0    1    0    0    0]\n",
            " [  15   15  968    3    1    0    3   20    7    0]\n",
            " [   0    3    2  975    1   14    0    7    4    4]\n",
            " [   1   13    0    0  934    0    5    2    1   26]\n",
            " [   3    1    0   10    1  863    8    2    0    4]\n",
            " [   7    4    0    0    3    1  943    0    0    0]\n",
            " [   0   28    3    0    2    0    0  980    0   15]\n",
            " [   7    4    5   13    7   12    5    7  907    7]\n",
            " [   6    7    2    9    9    2    1   10    1  962]]\n"
          ]
        }
      ]
    },
    {
      "cell_type": "markdown",
      "source": [
        "# Predicting with 1 neighbor (weighted)\n"
      ],
      "metadata": {
        "id": "ddU1JHljk1RV"
      }
    },
    {
      "cell_type": "code",
      "source": [
        "classifier = KNeighborsClassifier(n_neighbors = 1, weights = \"distance\")\n",
        "start = time.time()\n",
        "classifier.fit(X_train, y_train)\n",
        "end = time.time()\n",
        "print('Elapsed time training= {:.4f} secs'.format(end-start))\n",
        "start = time.time()\n",
        "pred = classifier.predict(X_test)\n",
        "end = time.time()\n",
        "print('Elapsed time testing= {:.4f} secs'.format(end-start))\n",
        "print(f'Accuracy: {accuracy_score(y_test,pred):6.4f}')\n",
        "print(f'Confusion matrix:\\n{confusion_matrix(y_test,pred)}')"
      ],
      "metadata": {
        "id": "rdhz0za8k9fG",
        "outputId": "faa73e8e-d15d-4ab9-ccad-c4370f36b2ee",
        "colab": {
          "base_uri": "https://localhost:8080/"
        }
      },
      "execution_count": 6,
      "outputs": [
        {
          "output_type": "stream",
          "name": "stdout",
          "text": [
            "Elapsed time training= 0.0391 secs\n",
            "Elapsed time testing= 44.4569 secs\n",
            "Accuracy: 0.9691\n",
            "Confusion matrix:\n",
            "[[ 973    1    1    0    0    1    3    1    0    0]\n",
            " [   0 1129    3    0    1    1    1    0    0    0]\n",
            " [   7    6  992    5    1    0    2   16    3    0]\n",
            " [   0    1    2  970    1   19    0    7    7    3]\n",
            " [   0    7    0    0  944    0    3    5    1   22]\n",
            " [   1    1    0   12    2  860    5    1    6    4]\n",
            " [   4    2    0    0    3    5  944    0    0    0]\n",
            " [   0   14    6    2    4    0    0  992    0   10]\n",
            " [   6    1    3   14    5   13    3    4  920    5]\n",
            " [   2    5    1    6   10    5    1   11    1  967]]\n"
          ]
        }
      ]
    },
    {
      "cell_type": "markdown",
      "source": [
        "# Predicting with 2 neighbors (weighted)"
      ],
      "metadata": {
        "id": "n0JBt8imb8tT"
      }
    },
    {
      "cell_type": "code",
      "source": [
        "classifier = KNeighborsClassifier(n_neighbors = 2, weights = \"distance\")\n",
        "start = time.time()\n",
        "classifier.fit(X_train, y_train)\n",
        "end = time.time()\n",
        "print('Elapsed time training= {:.4f} secs'.format(end-start))\n",
        "start = time.time()\n",
        "pred = classifier.predict(X_test)\n",
        "end = time.time()\n",
        "print('Elapsed time testing= {:.4f} secs'.format(end-start))\n",
        "print(f'Accuracy: {accuracy_score(y_test,pred):6.4f}')\n",
        "print(f'Confusion matrix:\\n{confusion_matrix(y_test,pred)}')"
      ],
      "metadata": {
        "colab": {
          "base_uri": "https://localhost:8080/"
        },
        "id": "PJCrcxqecCTb",
        "outputId": "98e2b589-f444-4587-a946-25574d18ef32"
      },
      "execution_count": 7,
      "outputs": [
        {
          "output_type": "stream",
          "name": "stdout",
          "text": [
            "Elapsed time training= 0.0341 secs\n",
            "Elapsed time testing= 42.1870 secs\n",
            "Accuracy: 0.9691\n",
            "Confusion matrix:\n",
            "[[ 973    1    1    0    0    1    3    1    0    0]\n",
            " [   0 1129    3    0    1    1    1    0    0    0]\n",
            " [   7    6  992    5    1    0    2   16    3    0]\n",
            " [   0    1    2  970    1   19    0    7    7    3]\n",
            " [   0    7    0    0  944    0    3    5    1   22]\n",
            " [   1    1    0   12    2  860    5    1    6    4]\n",
            " [   4    2    0    0    3    5  944    0    0    0]\n",
            " [   0   14    6    2    4    0    0  992    0   10]\n",
            " [   6    1    3   14    5   13    3    4  920    5]\n",
            " [   2    5    1    6   10    5    1   11    1  967]]\n"
          ]
        }
      ]
    },
    {
      "cell_type": "markdown",
      "source": [
        "# Predicting with 5 neighbors (weighted)"
      ],
      "metadata": {
        "id": "WC81UXVdcKlE"
      }
    },
    {
      "cell_type": "code",
      "source": [
        "classifier = KNeighborsClassifier(n_neighbors = 5, weights = \"distance\")\n",
        "start = time.time()\n",
        "classifier.fit(X_train, y_train)\n",
        "end = time.time()\n",
        "print('Elapsed time training= {:.4f} secs'.format(end-start))\n",
        "start = time.time()\n",
        "pred = classifier.predict(X_test)\n",
        "end = time.time()\n",
        "print('Elapsed time testing= {:.4f} secs'.format(end-start))\n",
        "print(f'Accuracy: {accuracy_score(y_test,pred):6.4f}')\n",
        "print(f'Confusion matrix:\\n{confusion_matrix(y_test,pred)}')"
      ],
      "metadata": {
        "colab": {
          "base_uri": "https://localhost:8080/"
        },
        "id": "oo9UMkttcPhs",
        "outputId": "5a5312a2-a12c-47a0-dbe9-6a7d02e4883d"
      },
      "execution_count": 8,
      "outputs": [
        {
          "output_type": "stream",
          "name": "stdout",
          "text": [
            "Elapsed time training= 0.0365 secs\n",
            "Elapsed time testing= 44.1822 secs\n",
            "Accuracy: 0.9691\n",
            "Confusion matrix:\n",
            "[[ 974    1    1    0    0    1    2    1    0    0]\n",
            " [   0 1133    2    0    0    0    0    0    0    0]\n",
            " [  11    7  989    2    0    0    2   17    4    0]\n",
            " [   0    2    3  973    1   13    1    7    4    6]\n",
            " [   2    7    0    0  943    0    4    3    0   23]\n",
            " [   4    0    0    9    2  861    6    1    4    5]\n",
            " [   5    3    0    0    3    2  945    0    0    0]\n",
            " [   0   20    4    0    3    0    0  990    0   11]\n",
            " [   7    3    5   12    5   11    5    5  916    5]\n",
            " [   3    5    3    7    7    3    1   11    2  967]]\n"
          ]
        }
      ]
    },
    {
      "cell_type": "markdown",
      "source": [
        "# Predicting with 15 neighbors (weighted)"
      ],
      "metadata": {
        "id": "Fvj_6Adxl9aI"
      }
    },
    {
      "cell_type": "code",
      "source": [
        "classifier = KNeighborsClassifier(n_neighbors = 15, weights = \"distance\")\n",
        "start = time.time()\n",
        "classifier.fit(X_train, y_train)\n",
        "end = time.time()\n",
        "print('Elapsed time training= {:.4f} secs'.format(end-start))\n",
        "start = time.time()\n",
        "pred = classifier.predict(X_test)\n",
        "end = time.time()\n",
        "print('Elapsed time testing= {:.4f} secs'.format(end-start))\n",
        "print(f'Accuracy: {accuracy_score(y_test,pred):6.4f}')\n",
        "print(f'Confusion matrix:\\n{confusion_matrix(y_test,pred)}')"
      ],
      "metadata": {
        "id": "aTpN7toumGT8",
        "outputId": "d1b6cabd-369c-4495-b89c-bfc58a373f25",
        "colab": {
          "base_uri": "https://localhost:8080/"
        }
      },
      "execution_count": 9,
      "outputs": [
        {
          "output_type": "stream",
          "name": "stdout",
          "text": [
            "Elapsed time training= 0.0281 secs\n",
            "Elapsed time testing= 42.2814 secs\n",
            "Accuracy: 0.9647\n",
            "Confusion matrix:\n",
            "[[ 970    1    1    0    0    2    5    1    0    0]\n",
            " [   0 1131    2    1    0    0    1    0    0    0]\n",
            " [  13   13  972    3    1    0    3   20    7    0]\n",
            " [   0    3    2  973    1   13    1    8    5    4]\n",
            " [   1   13    0    0  933    0    5    2    1   27]\n",
            " [   3    1    0    8    1  865    8    1    0    5]\n",
            " [   7    4    0    0    3    1  943    0    0    0]\n",
            " [   0   27    3    0    2    0    0  981    0   15]\n",
            " [   6    4    4   12    6   11    3    8  913    7]\n",
            " [   5    6    2    8    9    2    1    9    1  966]]\n"
          ]
        }
      ]
    }
  ]
}