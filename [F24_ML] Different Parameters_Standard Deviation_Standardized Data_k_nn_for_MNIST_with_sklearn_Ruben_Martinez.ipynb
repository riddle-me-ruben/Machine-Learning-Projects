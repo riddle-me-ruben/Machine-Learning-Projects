{
  "nbformat": 4,
  "nbformat_minor": 0,
  "metadata": {
    "colab": {
      "provenance": []
    },
    "kernelspec": {
      "name": "python3",
      "display_name": "Python 3"
    },
    "language_info": {
      "name": "python"
    }
  },
  "cells": [
    {
      "cell_type": "markdown",
      "metadata": {
        "id": "q6Ilgn9-p17t"
      },
      "source": [
        "# **CS 5361/6361 Machine Learning**\n",
        "\n",
        "**Classification using k-nn and the scikit-learn library**\n",
        "\n",
        "**Author:** Ruben Martinez\n",
        "**Last modified:** 9/17/2024<br>\n"
      ]
    },
    {
      "cell_type": "code",
      "metadata": {
        "id": "DG6nXNYdguMT"
      },
      "source": [
        "import tensorflow as tf\n",
        "import numpy as np\n",
        "import matplotlib.pyplot as plt\n",
        "from sklearn.neighbors import KNeighborsClassifier\n",
        "from sklearn.metrics import accuracy_score, confusion_matrix\n",
        "import time"
      ],
      "execution_count": 1,
      "outputs": []
    },
    {
      "cell_type": "markdown",
      "metadata": {
        "id": "EgJSAxqSooW3"
      },
      "source": [
        "Download data."
      ]
    },
    {
      "cell_type": "code",
      "metadata": {
        "id": "kOG2Ow8Dp1BA",
        "colab": {
          "base_uri": "https://localhost:8080/"
        },
        "outputId": "349b2201-3e4e-4305-e1ee-a803a6dd5136"
      },
      "source": [
        "(X_train, y_train), (X_test, y_test) = tf.keras.datasets.mnist.load_data()\n",
        "X_train = np.float32(X_train.reshape(X_train.shape[0],-1)/255)\n",
        "X_test = np.float32(X_test.reshape(X_test.shape[0],-1)/255)\n",
        "\n",
        "print(X_train.shape)\n",
        "print(y_train.shape)\n",
        "print(X_test.shape)\n",
        "print(y_test.shape)"
      ],
      "execution_count": 10,
      "outputs": [
        {
          "output_type": "stream",
          "name": "stdout",
          "text": [
            "(60000, 784)\n",
            "(60000,)\n",
            "(10000, 784)\n",
            "(10000,)\n"
          ]
        }
      ]
    },
    {
      "cell_type": "markdown",
      "metadata": {
        "id": "M-31CyFQpFOZ"
      },
      "source": [
        "Now we will classify the test set using the sklearn implementation of k-nearest neighbors with default parameters.\n",
        "\n",
        "The documentation can be found here:\n",
        "https://scikit-learn.org/stable/modules/generated/sklearn.neighbors.KNeighborsClassifier.html\n",
        "\n"
      ]
    },
    {
      "cell_type": "code",
      "source": [
        "classifier = KNeighborsClassifier()\n",
        "start = time.time()\n",
        "classifier.fit(X_train, y_train)\n",
        "end = time.time()\n",
        "print('Elapsed time training= {:.4f} secs'.format(end-start))\n",
        "start = time.time()\n",
        "pred = classifier.predict(X_test)\n",
        "end = time.time()\n",
        "print('Elapsed time testing= {:.4f} secs'.format(end-start))\n",
        "print(f'Accuracy: {accuracy_score(y_test,pred):6.4f}')\n",
        "print(f'Confusion matrix:\\n{confusion_matrix(y_test,pred)}')"
      ],
      "metadata": {
        "id": "pWS_WExtYzFw",
        "colab": {
          "base_uri": "https://localhost:8080/"
        },
        "outputId": "68aef152-864b-49a6-a640-774d6027edf7"
      },
      "execution_count": 9,
      "outputs": [
        {
          "output_type": "stream",
          "name": "stdout",
          "text": [
            "Elapsed time training= 0.0436 secs\n",
            "Elapsed time testing= 7.7491 secs\n",
            "Accuracy: 0.9296\n",
            "Confusion matrix:\n",
            "[[ 963    0    4    1    1    7    2    1    0    1]\n",
            " [   0 1127    4    2    1    0    1    0    0    0]\n",
            " [  18    4  961   10    6    6    8   14    1    4]\n",
            " [   6    0   20  903    0   49   10    1   17    4]\n",
            " [   1   13    2    0  940    1    4    4    0   17]\n",
            " [  17    4    5   20    3  827   11    2    2    1]\n",
            " [  14    4    3   10    8   20  897    1    0    1]\n",
            " [   3   20   12    1   10    1    0  964    0   17]\n",
            " [   4    2   17   65   10   36   13   11  802   14]\n",
            " [   7    4    9    7   23   11    1   32    3  912]]\n"
          ]
        }
      ]
    },
    {
      "cell_type": "markdown",
      "source": [
        "By default, the k-neighbors classifier uses 5 nearest neighbors (n_neighbors = 5). Would you expect the accuracy to increase or decrease using:\n",
        "*   k = 1?\n",
        "*   k = 15?\n",
        "\n"
      ],
      "metadata": {
        "id": "7X-CB_m6alqA"
      }
    },
    {
      "cell_type": "markdown",
      "source": [
        "By default, the algorithm assigns the same weight to all the nearest neighbors of a test example (weights = 'uniform'), while distance weighting assigns a larger weight to neighbors that are closer to the test example. Would you expect the accuracy to increase or decrease using distance weighting and:\n",
        "*   k = 1?\n",
        "*   k = 2?\n",
        "*   k = 5?\n",
        "*   k = 15?"
      ],
      "metadata": {
        "id": "O9zocu8tbM5M"
      }
    },
    {
      "cell_type": "markdown",
      "source": [
        "Suppose we select the n features with the largest variance in the training set. If we select half of the features (that is, n =  784/2 = 392), what do you expect to change in terms of\n",
        "\n",
        "\n",
        "*   Training time\n",
        "*   Classification time\n",
        "*   Accuracy\n",
        "\n",
        "\n",
        "\n"
      ],
      "metadata": {
        "id": "E4ZhoSj3eAda"
      }
    },
    {
      "cell_type": "markdown",
      "source": [
        "# Predicting with alternative parameters\n"
      ],
      "metadata": {
        "id": "_b_7MNENdbnj"
      }
    },
    {
      "cell_type": "code",
      "source": [
        "parameters = [(1, \"uniform\"), (15, \"uniform\"), (1, \"distance\"), (2, \"distance\"), (5, \"distance\"), (15, \"distance\")] # (n_neighbors, weighted?) passing uniform means unweighted and distance means weighted\n",
        "\n",
        "for num_neighbors, weight_type in parameters:\n",
        "    print(f\"Number of neighbors: {num_neighbors} and {'Weighted' if weight_type == 'distance' else 'Unweighted'}\")\n",
        "    classifier = KNeighborsClassifier(n_neighbors = num_neighbors, weights = weight_type)\n",
        "    start = time.time()\n",
        "    classifier.fit(X_train, y_train)\n",
        "    end = time.time()\n",
        "    print('Elapsed time training= {:.4f} secs'.format(end-start))\n",
        "    start = time.time()\n",
        "    pred = classifier.predict(X_test)\n",
        "    end = time.time()\n",
        "    print('Elapsed time testing= {:.4f} secs'.format(end-start))\n",
        "    print(f'Accuracy: {accuracy_score(y_test,pred):6.4f}')\n",
        "    print(f'Confusion matrix:\\n{confusion_matrix(y_test,pred)}')\n",
        "    print()"
      ],
      "metadata": {
        "colab": {
          "base_uri": "https://localhost:8080/"
        },
        "id": "jlvHWb1qdg6x",
        "outputId": "53f3a747-f111-46cf-d5f1-de72367bb6f6"
      },
      "execution_count": 6,
      "outputs": [
        {
          "output_type": "stream",
          "name": "stdout",
          "text": [
            "Number of neighbors: 1 and Unweighted\n",
            "Elapsed time training= 0.0421 secs\n",
            "Elapsed time testing= 38.7040 secs\n",
            "Accuracy: 0.9691\n",
            "Confusion matrix:\n",
            "[[ 973    1    1    0    0    1    3    1    0    0]\n",
            " [   0 1129    3    0    1    1    1    0    0    0]\n",
            " [   7    6  992    5    1    0    2   16    3    0]\n",
            " [   0    1    2  970    1   19    0    7    7    3]\n",
            " [   0    7    0    0  944    0    3    5    1   22]\n",
            " [   1    1    0   12    2  860    5    1    6    4]\n",
            " [   4    2    0    0    3    5  944    0    0    0]\n",
            " [   0   14    6    2    4    0    0  992    0   10]\n",
            " [   6    1    3   14    5   13    3    4  920    5]\n",
            " [   2    5    1    6   10    5    1   11    1  967]]\n",
            "\n",
            "Number of neighbors: 15 and Unweighted\n",
            "Elapsed time training= 0.0377 secs\n",
            "Elapsed time testing= 37.9144 secs\n",
            "Accuracy: 0.9633\n",
            "Confusion matrix:\n",
            "[[ 970    1    1    0    0    2    5    1    0    0]\n",
            " [   0 1131    2    1    0    0    1    0    0    0]\n",
            " [  15   15  968    3    1    0    3   20    7    0]\n",
            " [   0    3    2  975    1   14    0    7    4    4]\n",
            " [   1   13    0    0  934    0    5    2    1   26]\n",
            " [   3    1    0   10    1  863    8    2    0    4]\n",
            " [   7    4    0    0    3    1  943    0    0    0]\n",
            " [   0   28    3    0    2    0    0  980    0   15]\n",
            " [   7    4    5   13    7   12    5    7  907    7]\n",
            " [   6    7    2    9    9    2    1   10    1  962]]\n",
            "\n",
            "Number of neighbors: 1 and Weighted\n",
            "Elapsed time training= 0.0255 secs\n",
            "Elapsed time testing= 38.6792 secs\n",
            "Accuracy: 0.9691\n",
            "Confusion matrix:\n",
            "[[ 973    1    1    0    0    1    3    1    0    0]\n",
            " [   0 1129    3    0    1    1    1    0    0    0]\n",
            " [   7    6  992    5    1    0    2   16    3    0]\n",
            " [   0    1    2  970    1   19    0    7    7    3]\n",
            " [   0    7    0    0  944    0    3    5    1   22]\n",
            " [   1    1    0   12    2  860    5    1    6    4]\n",
            " [   4    2    0    0    3    5  944    0    0    0]\n",
            " [   0   14    6    2    4    0    0  992    0   10]\n",
            " [   6    1    3   14    5   13    3    4  920    5]\n",
            " [   2    5    1    6   10    5    1   11    1  967]]\n",
            "\n",
            "Number of neighbors: 2 and Weighted\n",
            "Elapsed time training= 0.0242 secs\n",
            "Elapsed time testing= 38.0206 secs\n",
            "Accuracy: 0.9691\n",
            "Confusion matrix:\n",
            "[[ 973    1    1    0    0    1    3    1    0    0]\n",
            " [   0 1129    3    0    1    1    1    0    0    0]\n",
            " [   7    6  992    5    1    0    2   16    3    0]\n",
            " [   0    1    2  970    1   19    0    7    7    3]\n",
            " [   0    7    0    0  944    0    3    5    1   22]\n",
            " [   1    1    0   12    2  860    5    1    6    4]\n",
            " [   4    2    0    0    3    5  944    0    0    0]\n",
            " [   0   14    6    2    4    0    0  992    0   10]\n",
            " [   6    1    3   14    5   13    3    4  920    5]\n",
            " [   2    5    1    6   10    5    1   11    1  967]]\n",
            "\n",
            "Number of neighbors: 5 and Weighted\n",
            "Elapsed time training= 0.0241 secs\n",
            "Elapsed time testing= 36.9512 secs\n",
            "Accuracy: 0.9691\n",
            "Confusion matrix:\n",
            "[[ 974    1    1    0    0    1    2    1    0    0]\n",
            " [   0 1133    2    0    0    0    0    0    0    0]\n",
            " [  11    7  989    2    0    0    2   17    4    0]\n",
            " [   0    2    3  973    1   13    1    7    4    6]\n",
            " [   2    7    0    0  943    0    4    3    0   23]\n",
            " [   4    0    0    9    2  861    6    1    4    5]\n",
            " [   5    3    0    0    3    2  945    0    0    0]\n",
            " [   0   20    4    0    3    0    0  990    0   11]\n",
            " [   7    3    5   12    5   11    5    5  916    5]\n",
            " [   3    5    3    7    7    3    1   11    2  967]]\n",
            "\n",
            "Number of neighbors: 15 and Weighted\n",
            "Elapsed time training= 0.0341 secs\n",
            "Elapsed time testing= 38.7772 secs\n",
            "Accuracy: 0.9647\n",
            "Confusion matrix:\n",
            "[[ 970    1    1    0    0    2    5    1    0    0]\n",
            " [   0 1131    2    1    0    0    1    0    0    0]\n",
            " [  13   13  972    3    1    0    3   20    7    0]\n",
            " [   0    3    2  973    1   13    1    8    5    4]\n",
            " [   1   13    0    0  933    0    5    2    1   27]\n",
            " [   3    1    0    8    1  865    8    1    0    5]\n",
            " [   7    4    0    0    3    1  943    0    0    0]\n",
            " [   0   27    3    0    2    0    0  981    0   15]\n",
            " [   6    4    4   12    6   11    3    8  913    7]\n",
            " [   5    6    2    8    9    2    1    9    1  966]]\n",
            "\n"
          ]
        }
      ]
    },
    {
      "cell_type": "markdown",
      "source": [
        "# Predicting with half the features of largest variance"
      ],
      "metadata": {
        "id": "fwG3A_bvhjOC"
      }
    },
    {
      "cell_type": "code",
      "source": [
        "variances = np.var(X_train, axis=0)  # variance of each feature\n",
        "\n",
        "# sort indices by variance and select the largest half of features\n",
        "largest_half_indices = np.argsort(variances)[X_train.shape[1] // 2:]  # select top 50% of features\n",
        "\n",
        "X_train = X_train[:, largest_half_indices]\n",
        "X_test = X_test[:, largest_half_indices]\n",
        "\n",
        "\n",
        "classifier = KNeighborsClassifier()\n",
        "start = time.time()\n",
        "classifier.fit(X_train, y_train)\n",
        "end = time.time()\n",
        "print('Elapsed time training= {:.4f} secs'.format(end-start))\n",
        "\n",
        "start = time.time()\n",
        "pred = classifier.predict(X_test)\n",
        "end = time.time()\n",
        "print('Elapsed time testing= {:.4f} secs'.format(end-start))\n",
        "\n",
        "print(f'Accuracy: {accuracy_score(y_test,pred):6.4f}')\n",
        "print(f'Confusion matrix:\\n{confusion_matrix(y_test,pred)}')"
      ],
      "metadata": {
        "colab": {
          "base_uri": "https://localhost:8080/"
        },
        "id": "jsvwcKGmh-QE",
        "outputId": "fb12d2f2-6cef-4f40-f86b-a4ff29e90744"
      },
      "execution_count": 8,
      "outputs": [
        {
          "output_type": "stream",
          "name": "stdout",
          "text": [
            "Elapsed time training= 0.0752 secs\n",
            "Elapsed time testing= 7.6698 secs\n",
            "Accuracy: 0.9296\n",
            "Confusion matrix:\n",
            "[[ 963    0    4    1    1    7    2    1    0    1]\n",
            " [   0 1127    4    2    1    0    1    0    0    0]\n",
            " [  18    4  961   10    6    6    8   14    1    4]\n",
            " [   6    0   20  903    0   49   10    1   17    4]\n",
            " [   1   13    2    0  940    1    4    4    0   17]\n",
            " [  17    4    5   20    3  827   11    2    2    1]\n",
            " [  14    4    3   10    8   20  897    1    0    1]\n",
            " [   3   20   12    1   10    1    0  964    0   17]\n",
            " [   4    2   17   65   10   36   13   11  802   14]\n",
            " [   7    4    9    7   23   11    1   32    3  912]]\n"
          ]
        }
      ]
    },
    {
      "cell_type": "markdown",
      "source": [
        "# Predicting with standardized training data"
      ],
      "metadata": {
        "id": "M6WyMoJTqj7m"
      }
    },
    {
      "cell_type": "code",
      "source": [
        "(X_train, y_train), (X_test, y_test) = tf.keras.datasets.mnist.load_data()\n",
        "\n",
        "X_train = np.float32(X_train.reshape(X_train.shape[0], -1) / 255)\n",
        "X_test = np.float32(X_test.reshape(X_test.shape[0], -1) / 255)\n",
        "\n",
        "means = np.mean(X_train, axis=0) # means for each feature\n",
        "\n",
        "standard_deviations = np.std(X_train, axis=0) # standard deviations for each feature\n",
        "standard_deviations[standard_deviations == 0] = 1 # replace standard deviations of 0 with 1\n",
        "\n",
        "X_train_standardized = (X_train - means) / standard_deviations\n",
        "X_test_standardized = (X_test - means) / standard_deviations\n",
        "\n",
        "classifier = KNeighborsClassifier()\n",
        "start = time.time()\n",
        "classifier.fit(X_train_standardized, y_train)\n",
        "end = time.time()\n",
        "print('Elapsed time training= {:.4f} secs'.format(end-start))\n",
        "\n",
        "start = time.time()\n",
        "pred = classifier.predict(X_test_standardized)\n",
        "end = time.time()\n",
        "print('Elapsed time testing= {:.4f} secs'.format(end-start))\n",
        "\n",
        "print(f'Accuracy: {accuracy_score(y_test,pred):6.4f}')\n",
        "print(f'Confusion matrix:\\n{confusion_matrix(y_test,pred)}')"
      ],
      "metadata": {
        "colab": {
          "base_uri": "https://localhost:8080/"
        },
        "id": "QbjZGx1Mmc55",
        "outputId": "b99ccf38-6150-4c52-faca-6404d5870682"
      },
      "execution_count": 35,
      "outputs": [
        {
          "output_type": "stream",
          "name": "stdout",
          "text": [
            "Elapsed time training= 0.0255 secs\n",
            "Elapsed time testing= 37.4009 secs\n",
            "Accuracy: 0.9443\n",
            "Confusion matrix:\n",
            "[[ 963    0    1    3    1    5    6    1    0    0]\n",
            " [   0 1129    3    0    0    0    3    0    0    0]\n",
            " [  14    6  960   20    5    0    7    9   10    1]\n",
            " [   0    3    5  962    3   13    0   10   10    4]\n",
            " [   1   10    5    3  922    3    6    4    2   26]\n",
            " [   5    1    3   23    8  824   13    2    6    7]\n",
            " [  10    4    2    1    3    6  929    0    3    0]\n",
            " [   0   21   12    4    8    2    0  949    1   31]\n",
            " [  13    3    6   18    8   30    3    6  880    7]\n",
            " [   6    5    5   10   18    6    0   31    3  925]]\n"
          ]
        }
      ]
    }
  ]
}